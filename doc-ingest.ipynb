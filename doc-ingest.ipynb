{
 "cells": [
  {
   "cell_type": "code",
   "execution_count": null,
   "id": "6abf5018-3c61-4f92-a03d-d553db966e0c",
   "metadata": {
    "scrolled": true
   },
   "outputs": [],
   "source": [
    "!pip install -q langchain\n",
    "!pip install -q transformers\n",
    "!pip install -q pymilvus\n",
    "!pip install -q transformers\n",
    "!pip install -q sentence-transformers"
   ]
  },
  {
   "cell_type": "code",
   "execution_count": null,
   "id": "834b5648-3639-46a5-814c-f91d74b8f48d",
   "metadata": {},
   "outputs": [],
   "source": [
    "from langchain.text_splitter import RecursiveCharacterTextSplitter\n",
    "from langchain.embeddings import HuggingFaceEmbeddings\n",
    "from langchain.vectorstores import Milvus\n",
    "from langchain.document_loaders import WebBaseLoader"
   ]
  },
  {
   "cell_type": "code",
   "execution_count": null,
   "id": "f99dcc5a-8da1-4451-a88e-7cc74d304125",
   "metadata": {},
   "outputs": [],
   "source": [
    "modelPath = \"sentence-transformers/all-mpnet-base-v2\"\n",
    "\n",
    "model_kwargs = {}\n",
    "\n",
    "# Create a dictionary with encoding options, specifically setting 'normalize_embeddings' to False\n",
    "encode_kwargs = {'normalize_embeddings': True}\n",
    "\n",
    "# Initialize an instance of HuggingFaceEmbeddings with the specified parameters\n",
    "embeddings = HuggingFaceEmbeddings(\n",
    "    model_name=modelPath,     # Provide the pre-trained model's path\n",
    "    model_kwargs=model_kwargs, # Pass the model configuration options\n",
    "    encode_kwargs=encode_kwargs # Pass the encoding options\n",
    ")"
   ]
  },
  {
   "cell_type": "code",
   "execution_count": null,
   "id": "c84628b9-b06d-497a-9405-2efa22c34a33",
   "metadata": {},
   "outputs": [],
   "source": [
    "example = embeddings.embed_query(\"pear\")\n",
    "print(len(example))\n",
    "print(example[:3])"
   ]
  },
  {
   "cell_type": "code",
   "execution_count": null,
   "id": "0fd1b630-2c32-47b9-9f8f-397dca2a5ddf",
   "metadata": {},
   "outputs": [],
   "source": [
    "loader = WebBaseLoader(\"https://www.nutanixbible.com/classic\")\n",
    "data = loader.load()"
   ]
  },
  {
   "cell_type": "code",
   "execution_count": null,
   "id": "1406f06b-475f-4655-b744-a3d5917f5e9b",
   "metadata": {},
   "outputs": [],
   "source": [
    "#print(loader)"
   ]
  },
  {
   "cell_type": "code",
   "execution_count": null,
   "id": "4525d408-49ed-4bdf-be4f-44e823832099",
   "metadata": {},
   "outputs": [],
   "source": [
    "#print(data)"
   ]
  },
  {
   "cell_type": "code",
   "execution_count": null,
   "id": "55121404-05fe-453c-9291-3dbe0771a6d7",
   "metadata": {},
   "outputs": [],
   "source": [
    "text_splitter = RecursiveCharacterTextSplitter(chunk_size=500, chunk_overlap=0)\n",
    "docs = text_splitter.split_documents(data)\n",
    "len(docs)"
   ]
  },
  {
   "cell_type": "code",
   "execution_count": null,
   "id": "98e7a2e5-cd70-4604-b1bc-3d04b499e8d8",
   "metadata": {},
   "outputs": [],
   "source": [
    "print(docs[10].page_content)"
   ]
  },
  {
   "cell_type": "code",
   "execution_count": 48,
   "id": "a4b97617-3de0-4c10-b38a-c3a4e74e2334",
   "metadata": {},
   "outputs": [],
   "source": [
    "vector_db = Milvus.from_documents(\n",
    "    docs,\n",
    "    embeddings,\n",
    "    collection_name=\"nutanixbible_web\",\n",
    "    connection_args={\"host\":\"10.42.250.123\",\"port\":\"19530\"}\n",
    ")"
   ]
  },
  {
   "cell_type": "code",
   "execution_count": 60,
   "id": "1cc56393-4799-4509-99a9-c4a5352fe5e7",
   "metadata": {},
   "outputs": [
    {
     "name": "stdout",
     "output_type": "stream",
     "text": [
      "Nutanix Kubernetes Engine (formerly Nutanix Karbon) \n",
      "\n",
      "» Download this section as PDF (opens in a new tab/window)\n",
      "Nutanix Kubernetes Engine (NKE) coupled with Prism Central-based Kubernetes Management is the Nutanix certified enterprise Kubernetes management solution that enables turnkey provisioning, operations, and lifecycle management of Kubernetes.\n",
      "\n",
      "        \n",
      "        \n",
      "          Supported Configurations\n"
     ]
    }
   ],
   "source": [
    "question = \"What is Nutanix Kubernetes Engine?\"\n",
    "result_docs = vector_db.similarity_search(question)\n",
    "print(result_docs[0].page_content)"
   ]
  },
  {
   "cell_type": "code",
   "execution_count": null,
   "id": "3ca13553-afef-4806-904f-4b2adb45a9d9",
   "metadata": {},
   "outputs": [],
   "source": []
  }
 ],
 "metadata": {
  "kernelspec": {
   "display_name": "Python 3 (ipykernel)",
   "language": "python",
   "name": "python3"
  },
  "language_info": {
   "codemirror_mode": {
    "name": "ipython",
    "version": 3
   },
   "file_extension": ".py",
   "mimetype": "text/x-python",
   "name": "python",
   "nbconvert_exporter": "python",
   "pygments_lexer": "ipython3",
   "version": "3.11.5"
  }
 },
 "nbformat": 4,
 "nbformat_minor": 5
}

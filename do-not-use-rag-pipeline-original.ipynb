{
 "cells": [
  {
   "cell_type": "code",
   "execution_count": null,
   "id": "6abf5018-3c61-4f92-a03d-d553db966e0c",
   "metadata": {},
   "outputs": [],
   "source": [
    "!pip install -q langchain\n",
    "!pip install -q transformers\n",
    "!pip install -q pymilvus\n",
    "!pip install -q transformers\n",
    "!pip install langchainhub"
   ]
  },
  {
   "cell_type": "code",
   "execution_count": null,
   "id": "834b5648-3639-46a5-814c-f91d74b8f48d",
   "metadata": {},
   "outputs": [],
   "source": [
    "from langchain.document_loaders import DirectoryLoader, TextLoader\n",
    "from langchain.text_splitter import RecursiveCharacterTextSplitter\n",
    "from langchain.embeddings import HuggingFaceEmbeddings\n",
    "from langchain.chains import RetrievalQA\n",
    "from langchain.vectorstores import Milvus\n",
    "from langchain.document_loaders import WebBaseLoader"
   ]
  },
  {
   "cell_type": "code",
   "execution_count": null,
   "id": "f99dcc5a-8da1-4451-a88e-7cc74d304125",
   "metadata": {},
   "outputs": [],
   "source": [
    "modelPath = \"sentence-transformers/all-mpnet-base-v2\"\n",
    "\n",
    "model_kwargs = {}\n",
    "\n",
    "# Create a dictionary with encoding options, specifically setting 'normalize_embeddings' to False\n",
    "encode_kwargs = {'normalize_embeddings': True}\n",
    "\n",
    "# Initialize an instance of HuggingFaceEmbeddings with the specified parameters\n",
    "embeddings = HuggingFaceEmbeddings(\n",
    "    model_name=modelPath,     # Provide the pre-trained model's path\n",
    "    model_kwargs=model_kwargs, # Pass the model configuration options\n",
    "    encode_kwargs=encode_kwargs # Pass the encoding options\n",
    ")"
   ]
  },
  {
   "cell_type": "code",
   "execution_count": null,
   "id": "549c1a1e-a8ef-4885-b5b0-faecfc707283",
   "metadata": {
    "scrolled": true
   },
   "outputs": [],
   "source": [
    "pip install sentence-transformers"
   ]
  },
  {
   "cell_type": "code",
   "execution_count": null,
   "id": "c84628b9-b06d-497a-9405-2efa22c34a33",
   "metadata": {},
   "outputs": [],
   "source": [
    "embeddings"
   ]
  },
  {
   "cell_type": "code",
   "execution_count": null,
   "id": "0fd1b630-2c32-47b9-9f8f-397dca2a5ddf",
   "metadata": {},
   "outputs": [],
   "source": [
    "loader = WebBaseLoader(\"https://www.nutanixbible.com/classic\")"
   ]
  },
  {
   "cell_type": "code",
   "execution_count": null,
   "id": "1406f06b-475f-4655-b744-a3d5917f5e9b",
   "metadata": {},
   "outputs": [],
   "source": [
    "loader"
   ]
  },
  {
   "cell_type": "code",
   "execution_count": null,
   "id": "cfb41c92-509b-410c-98de-e58a81ede549",
   "metadata": {},
   "outputs": [],
   "source": [
    "data = loader.load()"
   ]
  },
  {
   "cell_type": "code",
   "execution_count": null,
   "id": "a43d4181-0ab7-419b-95ee-3d30055a0ece",
   "metadata": {},
   "outputs": [],
   "source": [
    "len(data)"
   ]
  },
  {
   "cell_type": "code",
   "execution_count": null,
   "id": "55121404-05fe-453c-9291-3dbe0771a6d7",
   "metadata": {},
   "outputs": [],
   "source": [
    "text_splitter = RecursiveCharacterTextSplitter(chunk_size=500, chunk_overlap=0)\n",
    "docs = text_splitter.split_documents(data)\n",
    "len(docs)"
   ]
  },
  {
   "cell_type": "code",
   "execution_count": null,
   "id": "c682e191-c669-4457-9f72-dbacff7aa7e2",
   "metadata": {},
   "outputs": [],
   "source": [
    "text = \"This is a test document.\"\n",
    "query_result = embeddings.embed_query(text)\n",
    "query_result[:3]"
   ]
  },
  {
   "cell_type": "code",
   "execution_count": null,
   "id": "ac198c27-35f8-4acb-afca-1126355b280a",
   "metadata": {},
   "outputs": [],
   "source": [
    "docs[:1]"
   ]
  },
  {
   "cell_type": "code",
   "execution_count": null,
   "id": "d9d21906-7b2b-4562-a4cd-969cd9891196",
   "metadata": {},
   "outputs": [],
   "source": [
    "Milvus"
   ]
  },
  {
   "cell_type": "code",
   "execution_count": null,
   "id": "a4b97617-3de0-4c10-b38a-c3a4e74e2334",
   "metadata": {},
   "outputs": [],
   "source": [
    "vector_db = Milvus.from_documents(\n",
    "    docs,\n",
    "    embeddings,\n",
    "    collection_name=\"nutanixbible_web\",\n",
    "    connection_args={\"host\":\"10.45.102.11\",\"port\":\"19530\"}\n",
    ")"
   ]
  },
  {
   "cell_type": "code",
   "execution_count": null,
   "id": "1cc56393-4799-4509-99a9-c4a5352fe5e7",
   "metadata": {},
   "outputs": [],
   "source": [
    "question = \"What is Nutanix Database Service?\"\n",
    "result_docs = vector_db.similarity_search(question)\n",
    "print(result_docs[0].page_content)\n",
    "len(result_docs)"
   ]
  },
  {
   "cell_type": "code",
   "execution_count": null,
   "id": "47d9a3de-63ec-45dd-946e-c7f563dcaeff",
   "metadata": {},
   "outputs": [],
   "source": [
    "len(docs)"
   ]
  },
  {
   "cell_type": "code",
   "execution_count": null,
   "id": "05f90c56-c551-4835-bc96-950af02e4110",
   "metadata": {},
   "outputs": [],
   "source": [
    "docs[:3]"
   ]
  },
  {
   "cell_type": "code",
   "execution_count": null,
   "id": "c5fdf92a-8593-417e-9398-42329571fbd1",
   "metadata": {},
   "outputs": [],
   "source": [
    "docs[0]"
   ]
  },
  {
   "cell_type": "code",
   "execution_count": null,
   "id": "377fd704-dfdd-43c5-8cd8-52a55decc849",
   "metadata": {},
   "outputs": [],
   "source": [
    "fruits = [\"apple\",\"banana\",\"orange\",\"pear\",\"peach\"]"
   ]
  },
  {
   "cell_type": "code",
   "execution_count": null,
   "id": "0ddde8e2-61b6-4d38-89a5-cd8201808256",
   "metadata": {},
   "outputs": [],
   "source": [
    "fruits[1]"
   ]
  },
  {
   "cell_type": "code",
   "execution_count": null,
   "id": "feb4e27f-f5e0-4421-9e0c-899481cb64b6",
   "metadata": {},
   "outputs": [],
   "source": [
    "fruits[:1]"
   ]
  },
  {
   "cell_type": "code",
   "execution_count": null,
   "id": "405be1ac-dafd-4fd9-9937-659f9f3ee10b",
   "metadata": {},
   "outputs": [],
   "source": [
    "fruits[1:]"
   ]
  },
  {
   "cell_type": "code",
   "execution_count": null,
   "id": "8a528ead-ce54-45cd-a024-05c8a0193f56",
   "metadata": {},
   "outputs": [],
   "source": [
    "fruits[0:]"
   ]
  },
  {
   "cell_type": "code",
   "execution_count": null,
   "id": "5023db2f-64ba-46a6-a27c-6cbb8d9ab600",
   "metadata": {},
   "outputs": [],
   "source": [
    "fruits[:2]"
   ]
  },
  {
   "cell_type": "code",
   "execution_count": null,
   "id": "5103d5c2-e83a-4055-8ff2-cb6130bbc560",
   "metadata": {},
   "outputs": [],
   "source": [
    "fruits[:-1]"
   ]
  },
  {
   "cell_type": "code",
   "execution_count": null,
   "id": "3c49bc1d-d2a7-445e-b8df-8ff10ea22ae8",
   "metadata": {},
   "outputs": [],
   "source": [
    "query_result[:3]"
   ]
  },
  {
   "cell_type": "code",
   "execution_count": null,
   "id": "98a702e0-c97c-4370-bce1-8636b4a10c97",
   "metadata": {},
   "outputs": [],
   "source": [
    "query_result[]"
   ]
  },
  {
   "cell_type": "code",
   "execution_count": null,
   "id": "d3f8c7f1-3f91-49d2-956d-bc9d4e1e58d3",
   "metadata": {},
   "outputs": [],
   "source": [
    "query_result"
   ]
  },
  {
   "cell_type": "code",
   "execution_count": null,
   "id": "d7708003-298c-491e-bf7b-552b1b9e2a20",
   "metadata": {},
   "outputs": [],
   "source": [
    "text = \"pear\""
   ]
  },
  {
   "cell_type": "code",
   "execution_count": null,
   "id": "493e2c53-3006-470c-8ec7-dbd46108fb9f",
   "metadata": {},
   "outputs": [],
   "source": [
    "query_result = embeddings.embed_query(text)"
   ]
  },
  {
   "cell_type": "code",
   "execution_count": null,
   "id": "835102b9-c2e8-409f-b827-15400790a2a0",
   "metadata": {},
   "outputs": [],
   "source": [
    "query_result[:3]"
   ]
  },
  {
   "cell_type": "code",
   "execution_count": null,
   "id": "7a3c0627-b698-41fe-b16d-c406c55a06c9",
   "metadata": {},
   "outputs": [],
   "source": [
    "text=\"apple\""
   ]
  },
  {
   "cell_type": "code",
   "execution_count": null,
   "id": "6125c6a4-90ff-4acc-8cf9-75fedb5d2d99",
   "metadata": {},
   "outputs": [],
   "source": [
    "embeddings.embed_query(\"pear\")[:3]"
   ]
  },
  {
   "cell_type": "code",
   "execution_count": null,
   "id": "2ed5ece2-812c-4eae-9e32-d1858ea33194",
   "metadata": {},
   "outputs": [],
   "source": [
    "embeddings.embed_query(\"apple\")[:3]"
   ]
  },
  {
   "cell_type": "code",
   "execution_count": null,
   "id": "f6a6ab46-e04a-4148-93e8-9cbb4c78df96",
   "metadata": {},
   "outputs": [],
   "source": [
    "embeddings.embed_query(\"computer\")[:3]"
   ]
  },
  {
   "cell_type": "code",
   "execution_count": null,
   "id": "3ca13553-afef-4806-904f-4b2adb45a9d9",
   "metadata": {},
   "outputs": [],
   "source": []
  }
 ],
 "metadata": {
  "kernelspec": {
   "display_name": "Python 3 (ipykernel)",
   "language": "python",
   "name": "python3"
  },
  "language_info": {
   "codemirror_mode": {
    "name": "ipython",
    "version": 3
   },
   "file_extension": ".py",
   "mimetype": "text/x-python",
   "name": "python",
   "nbconvert_exporter": "python",
   "pygments_lexer": "ipython3",
   "version": "3.11.5"
  }
 },
 "nbformat": 4,
 "nbformat_minor": 5
}
